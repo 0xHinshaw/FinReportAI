{
 "cells": [
  {
   "cell_type": "code",
   "execution_count": 3,
   "metadata": {},
   "outputs": [],
   "source": [
    "import docx2txt\n",
    "\n",
    "# extract text\n",
    "text = docx2txt.process(\"/home/luzhenye/PythonProject/gpt/（可公开）次高端白酒行业深度报告：势能向上，成长可期.docx\")\n",
    "output_path = \"/home/luzhenye/PythonProject/gpt/（可公开）次高端白酒行业深度报告：势能向上，成长可期.txt\"\n",
    "with open(output_path, 'w',encoding=\"utf-8\") as file:\n",
    "        file.write(text)"
   ]
  }
 ],
 "metadata": {
  "kernelspec": {
   "display_name": "py310",
   "language": "python",
   "name": "python3"
  },
  "language_info": {
   "codemirror_mode": {
    "name": "ipython",
    "version": 3
   },
   "file_extension": ".py",
   "mimetype": "text/x-python",
   "name": "python",
   "nbconvert_exporter": "python",
   "pygments_lexer": "ipython3",
   "version": "3.10.14"
  }
 },
 "nbformat": 4,
 "nbformat_minor": 2
}
